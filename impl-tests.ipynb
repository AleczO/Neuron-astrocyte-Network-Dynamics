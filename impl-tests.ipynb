{
 "cells": [
  {
   "cell_type": "code",
   "execution_count": 1,
   "id": "a0f057d9",
   "metadata": {},
   "outputs": [],
   "source": [
    "import torch \n",
    "import torch.nn as nn\n",
    "import numpy as np"
   ]
  },
  {
   "cell_type": "code",
   "execution_count": 2,
   "id": "af15a983",
   "metadata": {},
   "outputs": [],
   "source": [
    "n = 128\n",
    "m = 64\n",
    "k = 3\n",
    "o = 3\n",
    "\n",
    "gamma = 0.1\n",
    "tau = 0.01"
   ]
  },
  {
   "cell_type": "code",
   "execution_count": 3,
   "id": "6566e225",
   "metadata": {},
   "outputs": [],
   "source": [
    "C = nn.Parameter(torch.Tensor(n * n))\n",
    "D = nn.Parameter(torch.Tensor(n * n, m))\n",
    "F = nn.Parameter(torch.Tensor(m))\n",
    "H = nn.Parameter(torch.Tensor(m, n * n))\n",
    "\n",
    "W_in_1 = nn.Parameter(torch.Tensor(n, k))\n",
    "W_in_2 = nn.Parameter(torch.Tensor(m, k))\n",
    "\n",
    "with torch.no_grad():\n",
    "    C.normal_(std = 1. / np.sqrt(n * n))\n",
    "    D.normal_(std = 1. / np.sqrt(n * n))\n",
    "    F.normal_(std = 1. / np.sqrt(m))\n",
    "    H.normal_(std = 1. / np.sqrt(m))\n",
    "    W_in_1.uniform_(-1. / np.sqrt(k), 1. / np.sqrt(k))\n",
    "    W_in_2.uniform_(-1. / np.sqrt(k), 1. / np.sqrt(k))"
   ]
  },
  {
   "cell_type": "code",
   "execution_count": 4,
   "id": "389ead1f",
   "metadata": {},
   "outputs": [],
   "source": [
    "\n",
    "def phi(x):\n",
    "    return torch.sigmoid(x)\n",
    "\n",
    "def Phi(x):\n",
    "    return torch.outer(phi(x), phi(x)).flatten()\n",
    "\n",
    "def psi(z):\n",
    "    return torch.tanh(z)"
   ]
  },
  {
   "cell_type": "code",
   "execution_count": 5,
   "id": "8b9959cf",
   "metadata": {},
   "outputs": [],
   "source": [
    "\n",
    "x = torch.zeros(n)\n",
    "W = torch.zeros((n, n))\n",
    "z = torch.zeros(m)\n",
    "\n",
    "\n",
    "I = torch.zeros(k)\n",
    "\n",
    "\n",
    "x = (1 - gamma) * x + gamma * W @ phi(x) + W_in_1 @ I\n",
    "W = (1. - gamma) * W + gamma * ((torch.diag(C) @ Phi(x)) + D @ psi(z)).reshape(n, n)\n",
    "z = (1. - gamma * tau) * z + gamma * tau * (torch.diag(F) @ psi(z) + H @ Phi(x) + W_in_2 @ I)"
   ]
  },
  {
   "cell_type": "code",
   "execution_count": null,
   "id": "06e264cd",
   "metadata": {},
   "outputs": [],
   "source": [
    "from torch.distributions.bernoulli import Bernoulli\n",
    "\n",
    "def StandardMAB(action_cnt):  # standard Bernoulli multi-armed bandit  \n",
    "    Mu = torch.rand((action_cnt))\n",
    "    return Mu"
   ]
  },
  {
   "cell_type": "code",
   "execution_count": null,
   "id": "e4877956",
   "metadata": {},
   "outputs": [
    {
     "data": {
      "text/plain": [
       "tensor([0.4146, 0.2247, 0.3549])"
      ]
     },
     "execution_count": 18,
     "metadata": {},
     "output_type": "execute_result"
    }
   ],
   "source": [
    "\n"
   ]
  }
 ],
 "metadata": {
  "kernelspec": {
   "display_name": "Python 3",
   "language": "python",
   "name": "python3"
  },
  "language_info": {
   "codemirror_mode": {
    "name": "ipython",
    "version": 3
   },
   "file_extension": ".py",
   "mimetype": "text/x-python",
   "name": "python",
   "nbconvert_exporter": "python",
   "pygments_lexer": "ipython3",
   "version": "3.13.7"
  }
 },
 "nbformat": 4,
 "nbformat_minor": 5
}
