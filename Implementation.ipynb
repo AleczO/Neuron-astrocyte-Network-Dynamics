{
 "cells": [
  {
   "cell_type": "code",
   "execution_count": 1,
   "id": "a0f057d9",
   "metadata": {},
   "outputs": [],
   "source": [
    "import numpy as np"
   ]
  },
  {
   "cell_type": "code",
   "execution_count": 2,
   "id": "af15a983",
   "metadata": {},
   "outputs": [],
   "source": [
    "def normal(shape):\n",
    "    N_M = shape[1]\n",
    "    return np.random.normal(0, 1 / np.sqrt(N_M), size=shape)\n",
    "\n",
    "def uniform(shape):\n",
    "    N_M = shape[1]\n",
    "    return np.random.uniform(-1 / np.sqrt(N_M), 1 / np.sqrt(N_M), size=shape)\n"
   ]
  },
  {
   "cell_type": "code",
   "execution_count": 8,
   "id": "6566e225",
   "metadata": {},
   "outputs": [],
   "source": [
    "n = 128\n",
    "m = 64\n",
    "k = 1\n",
    "\n",
    "yS = 3\n",
    "\n",
    "x = np.zeros(n)\n",
    "z = np.zeros(m)\n",
    "\n",
    "C = normal((n**2, n**2))\n",
    "D = normal((n**2, m))\n",
    "\n",
    "F = normal((m, m))\n",
    "H = normal((m, n**2))\n",
    "\n",
    "W = np.zeros((n, n))\n",
    "\n",
    "\n",
    "I = np.array([1])\n",
    "\n",
    "W_in_1 = uniform((n, k))\n",
    "W_in_2 = uniform((m, k))\n",
    "W_out = uniform((yS, n))\n",
    "\n",
    "b_out = np.array([1, 1, 1])\n",
    "\n",
    "\n"
   ]
  },
  {
   "cell_type": "code",
   "execution_count": 4,
   "id": "389ead1f",
   "metadata": {},
   "outputs": [],
   "source": [
    "def phi(x):\n",
    "    return np.tanh(x)\n",
    "\n",
    "def Phi(x):\n",
    "    return np.outer(np.tanh(x), np.tanh(x).T).flatten()\n",
    "\n",
    "def psi(z):\n",
    "    return 1 / (1 + np.exp(-z))"
   ]
  },
  {
   "cell_type": "code",
   "execution_count": 24,
   "id": "a9f09a89",
   "metadata": {},
   "outputs": [],
   "source": [
    "def Softmax(y):\n",
    "    exp_y = np.exp(y)\n",
    "    return exp_y / np.sum(exp_y)"
   ]
  },
  {
   "cell_type": "code",
   "execution_count": 25,
   "id": "8b9959cf",
   "metadata": {},
   "outputs": [
    {
     "name": "stdout",
     "output_type": "stream",
     "text": [
      "[9.12978042e-01 8.61554679e-02 8.66490196e-04]\n",
      "[0.89440398 0.10441328 0.00118275]\n",
      "[0.88041383 0.11801499 0.00157117]\n",
      "[0.8858789 0.1120748 0.0020463]\n",
      "[0.91897752 0.0786582  0.00236429]\n",
      "[0.94767233 0.04971187 0.0026158 ]\n",
      "[0.9658205  0.03134299 0.00283651]\n",
      "[0.9748353  0.02201563 0.00314907]\n",
      "[0.97698632 0.01925529 0.00375839]\n",
      "[0.97623689 0.01908899 0.00467412]\n"
     ]
    }
   ],
   "source": [
    "tau = 0.01\n",
    "gamma = 0.1\n",
    "T = int(10)\n",
    "\n",
    "for t in range(T):\n",
    "    x = (1 - gamma) * x + gamma * W @ phi(x) + W_in_1 @ I\n",
    "    W = (1 - gamma) * W + gamma * ( C @ Phi(x) + D @ psi(z)).reshape(n, n)\n",
    "    z = (1 - gamma * tau) * z + gamma * tau * (F @ psi(z) + H @ Phi(x) + W_in_2 @ I)\n",
    "    y = W_out @ x + b_out\n",
    "\n",
    "    print(Softmax(y))\n",
    "\n",
    "#print(y)\n",
    "\n",
    "\n"
   ]
  },
  {
   "cell_type": "markdown",
   "id": "95c579d8",
   "metadata": {},
   "source": [
    "__todo - backpropagation__"
   ]
  }
 ],
 "metadata": {
  "kernelspec": {
   "display_name": "Python 3",
   "language": "python",
   "name": "python3"
  },
  "language_info": {
   "codemirror_mode": {
    "name": "ipython",
    "version": 3
   },
   "file_extension": ".py",
   "mimetype": "text/x-python",
   "name": "python",
   "nbconvert_exporter": "python",
   "pygments_lexer": "ipython3",
   "version": "3.13.7"
  }
 },
 "nbformat": 4,
 "nbformat_minor": 5
}
